{
 "cells": [
  {
   "cell_type": "code",
   "execution_count": 1,
   "metadata": {},
   "outputs": [
    {
     "name": "stderr",
     "output_type": "stream",
     "text": [
      "C:\\Users\\apple\\Anaconda3\\lib\\site-packages\\h5py\\__init__.py:36: FutureWarning: Conversion of the second argument of issubdtype from `float` to `np.floating` is deprecated. In future, it will be treated as `np.float64 == np.dtype(float).type`.\n",
      "  from ._conv import register_converters as _register_converters\n",
      "Using TensorFlow backend.\n"
     ]
    }
   ],
   "source": [
    "from __future__ import division, print_function\n",
    "import collections\n",
    "import os\n",
    "\n",
    "import nltk\n",
    "import numpy as np\n",
    "from keras.layers import Activation, Dense, Dropout, RepeatVector, Embedding, \\\n",
    "    GRU, LSTM, TimeDistributed, Bidirectional\n",
    "from keras.models import Sequential\n",
    "from keras.preprocessing import sequence\n",
    "from keras.utils import np_utils\n",
    "from sklearn.model_selection import train_test_split"
   ]
  },
  {
   "cell_type": "code",
   "execution_count": 2,
   "metadata": {},
   "outputs": [],
   "source": [
    "def parse_sentences(filename):\n",
    "    word_freqs = collections.Counter()\n",
    "    num_recs, maxlen = 0, 0\n",
    "    with open(filename, \"r\") as fin:\n",
    "        for line in fin:\n",
    "            words = line.strip().lower().split()\n",
    "            for word in words:\n",
    "                word_freqs[word] += 1\n",
    "            maxlen = max(maxlen, len(words))\n",
    "            num_recs += 1\n",
    "    return word_freqs, maxlen, num_recs"
   ]
  },
  {
   "cell_type": "code",
   "execution_count": 3,
   "metadata": {},
   "outputs": [],
   "source": [
    "def build_tensor(filename, numrecs, word2index, maxlen):\n",
    "    data = np.empty((numrecs, ), dtype=list)\n",
    "    with open(filename, \"r\") as fin:\n",
    "        for i, line in enumerate(fin):\n",
    "            wids = []\n",
    "            for word in line.strip().lower().split():\n",
    "                if word in word2index:\n",
    "                    wids.append(word2index[word])\n",
    "                else:\n",
    "                    wids.append(word2index[\"UNK\"])\n",
    "            data[i] = wids\n",
    "    pdata = sequence.pad_sequences(data, maxlen=maxlen)\n",
    "    return pdata\n"
   ]
  },
  {
   "cell_type": "code",
   "execution_count": 4,
   "metadata": {},
   "outputs": [
    {
     "name": "stdout",
     "output_type": "stream",
     "text": [
      "[nltk_data] Downloading package treebank to\n",
      "[nltk_data]     C:\\Users\\apple\\AppData\\Roaming\\nltk_data...\n",
      "[nltk_data]   Package treebank is already up-to-date!\n"
     ]
    },
    {
     "data": {
      "text/plain": [
       "True"
      ]
     },
     "execution_count": 4,
     "metadata": {},
     "output_type": "execute_result"
    }
   ],
   "source": [
    "import nltk\n",
    "nltk.download('treebank')"
   ]
  },
  {
   "cell_type": "code",
   "execution_count": 5,
   "metadata": {},
   "outputs": [],
   "source": [
    "DATA_DIR = \"Downloads\"\n",
    "\n",
    "with open(os.path.join(DATA_DIR, \"treebank_sents.txt\"), \"w\") as fedata, \\\n",
    "        open(os.path.join(DATA_DIR, \"treebank_poss.txt\"), \"w\") as ffdata:\n",
    "    sents = nltk.corpus.treebank.tagged_sents()\n",
    "    for sent in sents:\n",
    "        words, poss = [], []\n",
    "        for word, pos in sent:\n",
    "            if pos == \"-NONE-\":\n",
    "                continue\n",
    "            words.append(word)\n",
    "            poss.append(pos)\n",
    "        fedata.write(\"{:s}\\n\".format(\" \".join(words)))\n",
    "        ffdata.write(\"{:s}\\n\".format(\" \".join(poss)))\n"
   ]
  },
  {
   "cell_type": "code",
   "execution_count": 6,
   "metadata": {},
   "outputs": [
    {
     "name": "stdout",
     "output_type": "stream",
     "text": [
      "# records: 3914\n",
      "# unique words: 10947\n",
      "# unique POS tags: 45\n",
      "# words/sentence: max: 249\n"
     ]
    }
   ],
   "source": [
    "s_wordfreqs, s_maxlen, s_numrecs = \\\n",
    "    parse_sentences(os.path.join(DATA_DIR, \"treebank_sents.txt\"))\n",
    "t_wordfreqs, t_maxlen, t_numrecs = \\\n",
    "    parse_sentences(os.path.join(DATA_DIR, \"treebank_poss.txt\"))\n",
    "print(\"# records: {:d}\".format(s_numrecs))\n",
    "print(\"# unique words: {:d}\".format(len(s_wordfreqs)))\n",
    "print(\"# unique POS tags: {:d}\".format(len(t_wordfreqs)))\n",
    "print(\"# words/sentence: max: {:d}\".format(s_maxlen))\n",
    "\n"
   ]
  },
  {
   "cell_type": "code",
   "execution_count": 7,
   "metadata": {},
   "outputs": [],
   "source": [
    "MAX_SEQLEN = 250\n",
    "S_MAX_FEATURES = 5000\n",
    "T_MAX_FEATURES = 45\n",
    "\n",
    "\n",
    "s_vocabsize = min(len(s_wordfreqs), S_MAX_FEATURES) + 2\n",
    "s_word2index = {x[0]: i+2 for i, x in\n",
    "                enumerate(s_wordfreqs.most_common(S_MAX_FEATURES))}\n",
    "s_word2index[\"PAD\"] = 0\n",
    "s_word2index[\"UNK\"] = 1\n",
    "s_index2word = {v: k for k, v in s_word2index.items()}\n",
    "\n",
    "t_vocabsize = len(t_wordfreqs) + 1\n",
    "t_word2index = {x[0]: i+1 for i, x in\n",
    "                enumerate(t_wordfreqs.most_common(T_MAX_FEATURES))}\n",
    "t_word2index[\"PAD\"] = 0\n",
    "t_index2word = {v: k for k, v in t_word2index.items()}\n"
   ]
  },
  {
   "cell_type": "code",
   "execution_count": 8,
   "metadata": {},
   "outputs": [],
   "source": [
    "X = build_tensor(os.path.join(DATA_DIR, \"treebank_sents.txt\"),\n",
    "                 s_numrecs, s_word2index, MAX_SEQLEN)\n",
    "Y = build_tensor(os.path.join(DATA_DIR, \"treebank_poss.txt\"),\n",
    "                 t_numrecs, t_word2index, MAX_SEQLEN)"
   ]
  },
  {
   "cell_type": "code",
   "execution_count": 9,
   "metadata": {},
   "outputs": [],
   "source": [
    "Y = np.array([np_utils.to_categorical(d, t_vocabsize) for d in Y])"
   ]
  },
  {
   "cell_type": "code",
   "execution_count": 10,
   "metadata": {},
   "outputs": [
    {
     "data": {
      "text/plain": [
       "(3914, 250, 46)"
      ]
     },
     "execution_count": 10,
     "metadata": {},
     "output_type": "execute_result"
    }
   ],
   "source": [
    "Y.shape"
   ]
  },
  {
   "cell_type": "code",
   "execution_count": 11,
   "metadata": {},
   "outputs": [
    {
     "data": {
      "text/plain": [
       "(3914, 250)"
      ]
     },
     "execution_count": 11,
     "metadata": {},
     "output_type": "execute_result"
    }
   ],
   "source": [
    "X.shape"
   ]
  },
  {
   "cell_type": "code",
   "execution_count": 12,
   "metadata": {},
   "outputs": [],
   "source": [
    "Xtrain, Xtest, Ytrain, Ytest = train_test_split(X, Y, test_size=0.2, random_state=42)"
   ]
  },
  {
   "cell_type": "code",
   "execution_count": 13,
   "metadata": {},
   "outputs": [
    {
     "name": "stdout",
     "output_type": "stream",
     "text": [
      "WARNING:tensorflow:From C:\\Users\\apple\\Anaconda3\\lib\\site-packages\\keras\\backend\\tensorflow_backend.py:1247: calling reduce_sum (from tensorflow.python.ops.math_ops) with keep_dims is deprecated and will be removed in a future version.\n",
      "Instructions for updating:\n",
      "keep_dims is deprecated, use keepdims instead\n",
      "WARNING:tensorflow:From C:\\Users\\apple\\Anaconda3\\lib\\site-packages\\keras\\backend\\tensorflow_backend.py:1213: calling reduce_max (from tensorflow.python.ops.math_ops) with keep_dims is deprecated and will be removed in a future version.\n",
      "Instructions for updating:\n",
      "keep_dims is deprecated, use keepdims instead\n",
      "WARNING:tensorflow:From C:\\Users\\apple\\Anaconda3\\lib\\site-packages\\keras\\backend\\tensorflow_backend.py:1349: calling reduce_mean (from tensorflow.python.ops.math_ops) with keep_dims is deprecated and will be removed in a future version.\n",
      "Instructions for updating:\n",
      "keep_dims is deprecated, use keepdims instead\n",
      "_________________________________________________________________\n",
      "Layer (type)                 Output Shape              Param #   \n",
      "=================================================================\n",
      "embedding_1 (Embedding)      (None, 250, 128)          640256    \n",
      "_________________________________________________________________\n",
      "dropout_1 (Dropout)          (None, 250, 128)          0         \n",
      "_________________________________________________________________\n",
      "gru_1 (GRU)                  (None, 64)                37056     \n",
      "_________________________________________________________________\n",
      "repeat_vector_1 (RepeatVecto (None, 250, 64)           0         \n",
      "_________________________________________________________________\n",
      "gru_2 (GRU)                  (None, 250, 64)           24768     \n",
      "_________________________________________________________________\n",
      "time_distributed_1 (TimeDist (None, 250, 46)           2990      \n",
      "_________________________________________________________________\n",
      "activation_1 (Activation)    (None, 250, 46)           0         \n",
      "=================================================================\n",
      "Total params: 705,070\n",
      "Trainable params: 705,070\n",
      "Non-trainable params: 0\n",
      "_________________________________________________________________\n"
     ]
    }
   ],
   "source": [
    "EMBED_SIZE = 128\n",
    "HIDDEN_SIZE = 64\n",
    "BATCH_SIZE = 32\n",
    "NUM_EPOCHS = 1\n",
    "\n",
    "\n",
    "model = Sequential()\n",
    "model.add(Embedding(s_vocabsize, EMBED_SIZE, input_length=MAX_SEQLEN))\n",
    "model.add(Dropout(0.2))\n",
    "model.add(GRU(HIDDEN_SIZE, dropout=0.2, recurrent_dropout=0.2))\n",
    "model.add(RepeatVector(MAX_SEQLEN))\n",
    "model.add(GRU(HIDDEN_SIZE, return_sequences=True))\n",
    "model.add(TimeDistributed(Dense(t_vocabsize)))\n",
    "model.add(Activation(\"softmax\"))\n",
    "model.compile(loss=\"categorical_crossentropy\",\n",
    "              optimizer=\"adam\",\n",
    "              metrics=[\"accuracy\"])\n",
    "\n",
    "\n",
    "model.summary()\n"
   ]
  },
  {
   "cell_type": "code",
   "execution_count": 14,
   "metadata": {},
   "outputs": [
    {
     "name": "stdout",
     "output_type": "stream",
     "text": [
      "Train on 3131 samples, validate on 783 samples\n",
      "Epoch 1/1\n",
      "3131/3131 [==============================] - 47s 15ms/step - loss: 1.1626 - acc: 0.8866 - val_loss: 0.6191 - val_acc: 0.9019\n"
     ]
    },
    {
     "data": {
      "text/plain": [
       "<keras.callbacks.History at 0x10192048>"
      ]
     },
     "execution_count": 14,
     "metadata": {},
     "output_type": "execute_result"
    }
   ],
   "source": [
    "model.fit(Xtrain, Ytrain, batch_size=BATCH_SIZE,\n",
    "          epochs=NUM_EPOCHS, validation_data=[Xtest, Ytest])"
   ]
  },
  {
   "cell_type": "code",
   "execution_count": 15,
   "metadata": {},
   "outputs": [
    {
     "name": "stdout",
     "output_type": "stream",
     "text": [
      "783/783 [==============================] - 3s 3ms/step\n",
      "Test score: 0.619, accuracy: 0.902\n"
     ]
    }
   ],
   "source": [
    "score, acc = model.evaluate(Xtest, Ytest, batch_size=BATCH_SIZE)\n",
    "print(\"Test score: {:.3f}, accuracy: {:.3f}\".format(score, acc))"
   ]
  },
  {
   "cell_type": "code",
   "execution_count": null,
   "metadata": {},
   "outputs": [],
   "source": []
  }
 ],
 "metadata": {
  "kernelspec": {
   "display_name": "Python 3",
   "language": "python",
   "name": "python3"
  },
  "language_info": {
   "codemirror_mode": {
    "name": "ipython",
    "version": 3
   },
   "file_extension": ".py",
   "mimetype": "text/x-python",
   "name": "python",
   "nbconvert_exporter": "python",
   "pygments_lexer": "ipython3",
   "version": "3.6.5"
  }
 },
 "nbformat": 4,
 "nbformat_minor": 2
}
